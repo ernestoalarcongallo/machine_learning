{
  "nbformat": 4,
  "nbformat_minor": 0,
  "metadata": {
    "colab": {
      "name": "cnn.ipynb",
      "version": "0.3.2",
      "provenance": [],
      "collapsed_sections": []
    },
    "kernelspec": {
      "name": "python3",
      "display_name": "Python 3"
    }
  },
  "cells": [
    {
      "cell_type": "code",
      "metadata": {
        "id": "DdslzumKT_hB",
        "colab_type": "code",
        "colab": {}
      },
      "source": [
        "import tensorflow as tf\n",
        "from tensorflow.keras.callbacks import TensorBoard\n",
        "from tensorflow.keras import datasets, layers, models\n",
        "import numpy as np\n",
        "import random\n",
        "import matplotlib.pyplot as plt\n",
        "from mlxtend.plotting import plot_confusion_matrix"
      ],
      "execution_count": 0,
      "outputs": []
    },
    {
      "cell_type": "code",
      "metadata": {
        "id": "L4mkSRZ4_pDt",
        "colab_type": "code",
        "colab": {
          "base_uri": "https://localhost:8080/",
          "height": 276
        },
        "outputId": "d918bdba-ba1c-4022-ecd8-9a32cd073410"
      },
      "source": [
        "!wget https://bin.equinox.io/c/4VmDzA7iaHb/ngrok-stable-linux-amd64.zip\n",
        "!unzip ngrok-stable-linux-amd64.zip\n",
        "\n",
        "LOG_DIR = './log'\n",
        "get_ipython().system_raw(\n",
        "    'tensorboard --logdir {} --host 0.0.0.0 --port 6006 &'\n",
        "    .format(LOG_DIR)\n",
        ")\n",
        "\n",
        "get_ipython().system_raw('./ngrok http 6006 &')\n",
        "\n",
        "!curl -s http://localhost:4040/api/tunnels | python3 -c \\\n",
        "    \"import sys, json; print(json.load(sys.stdin)['tunnels'][0]['public_url'])\""
      ],
      "execution_count": 118,
      "outputs": [
        {
          "output_type": "stream",
          "text": [
            "--2019-05-05 18:55:01--  https://bin.equinox.io/c/4VmDzA7iaHb/ngrok-stable-linux-amd64.zip\n",
            "Resolving bin.equinox.io (bin.equinox.io)... 52.72.250.2, 52.86.186.182, 54.152.127.232, ...\n",
            "Connecting to bin.equinox.io (bin.equinox.io)|52.72.250.2|:443... connected.\n",
            "HTTP request sent, awaiting response... 200 OK\n",
            "Length: 14991793 (14M) [application/octet-stream]\n",
            "Saving to: ‘ngrok-stable-linux-amd64.zip.3’\n",
            "\n",
            "\r          ngrok-sta   0%[                    ]       0  --.-KB/s               \r         ngrok-stab  97%[==================> ]  13.93M  69.5MB/s               \rngrok-stable-linux- 100%[===================>]  14.30M  69.6MB/s    in 0.2s    \n",
            "\n",
            "2019-05-05 18:55:02 (69.6 MB/s) - ‘ngrok-stable-linux-amd64.zip.3’ saved [14991793/14991793]\n",
            "\n",
            "Archive:  ngrok-stable-linux-amd64.zip\n",
            "replace ngrok? [y]es, [n]o, [A]ll, [N]one, [r]ename: Y\n",
            "  inflating: ngrok                   \n",
            "http://f9883bdf.ngrok.io\n"
          ],
          "name": "stdout"
        }
      ]
    },
    {
      "cell_type": "code",
      "metadata": {
        "id": "SzFe_9YV_fTz",
        "colab_type": "code",
        "colab": {}
      },
      "source": [
        "mnist = tf.keras.datasets.mnist"
      ],
      "execution_count": 0,
      "outputs": []
    },
    {
      "cell_type": "code",
      "metadata": {
        "id": "GgM7zWtNUJWM",
        "colab_type": "code",
        "colab": {}
      },
      "source": [
        "(X_data, y_data),(X_test, y_test) = mnist.load_data()\n",
        "\n",
        "X_data = X_data.reshape((60000, 28, 28, 1))\n",
        "X_test = X_test.reshape((10000, 28, 28, 1))"
      ],
      "execution_count": 0,
      "outputs": []
    },
    {
      "cell_type": "code",
      "metadata": {
        "id": "v3uZceZTRR8W",
        "colab_type": "code",
        "colab": {
          "base_uri": "https://localhost:8080/",
          "height": 642
        },
        "outputId": "476bdd52-c29f-4d23-fe94-f5466287b045"
      },
      "source": [
        "X_train, y_train = X_data[:50000,:], y_data[:50000]\n",
        "X_valid, y_valid = X_data[50000:,:], y_data[50000:]\n",
        "\n",
        "print('Rows: {}, Columns: {}'.format(X_data.shape[0], X_data.shape[1]))\n",
        "print('Rows: {}, Columns: {}'.format(X_test.shape[0], X_test.shape[1]))\n",
        "\n",
        "print('Training:      ', X_train.shape, y_train.shape)\n",
        "print('Validation:    ', X_valid.shape, y_valid.shape)\n",
        "print('Test Set:      ', X_test.shape, y_test.shape)\n",
        "\n",
        "# Test the frequency of the training set to detect if it was necessary to stratify.\n",
        "x = np.random.randint(1, 100, 5)\n",
        "plt.hist(np.array(y_train), bins=10)\n",
        "plt.ylabel('Frequency')\n",
        "plt.show()\n",
        "\n",
        "# Test just a random image to see what we are working with:\n",
        "random_sample = random.randint(0, len(X_test)-1)\n",
        "label, pixels =  y_train[random_sample], X_train[random_sample]\n",
        "img = np.array(pixels).reshape((28,28))\n",
        "print('Label: {}'.format(label))\n",
        "plt.imshow(img)"
      ],
      "execution_count": 121,
      "outputs": [
        {
          "output_type": "stream",
          "text": [
            "Rows: 60000, Columns: 28\n",
            "Rows: 10000, Columns: 28\n",
            "Training:       (50000, 28, 28, 1) (50000,)\n",
            "Validation:     (10000, 28, 28, 1) (10000,)\n",
            "Test Set:       (10000, 28, 28, 1) (10000,)\n"
          ],
          "name": "stdout"
        },
        {
          "output_type": "display_data",
          "data": {
            "image/png": "[encoded data removed]",
            "text/plain": [
              "<Figure size 432x288 with 1 Axes>"
            ]
          },
          "metadata": {
            "tags": []
          }
        },
        {
          "output_type": "stream",
          "text": [
            "Label: 7\n"
          ],
          "name": "stdout"
        },
        {
          "output_type": "execute_result",
          "data": {
            "text/plain": [
              "<matplotlib.image.AxesImage at 0x7f0daab57da0>"
            ]
          },
          "metadata": {
            "tags": []
          },
          "execution_count": 121
        },
        {
          "output_type": "display_data",
          "data": {
            "image/png": "[encoded data removed]",
            "text/plain": [
              "<Figure size 432x288 with 1 Axes>"
            ]
          },
          "metadata": {
            "tags": []
          }
        }
      ]
    },
    {
      "cell_type": "markdown",
      "metadata": {
        "id": "vqP0SoYkiYun",
        "colab_type": "text"
      },
      "source": [
        "# The model design\n",
        "- Convolutional networks saves memory maintaining exceptional results. As we can observe, we are not passing the full data throught all the network, what makes us saving lots of resources. Instead of that, we reduce the data into smaller covolutional pieces, that contains the main patterns of the image. We create several layers in order to obtain deeper patterns.\n",
        "- After the convolutional operation we do a pooling, in this case we choose the max value, but there are other options like the average pooling.\n",
        "- The way to know the output of a convolutional operation, is by the formula Odimension = floor((n + 2*padding - m) / stride), where n is the size of the entry and m of the filter.\n",
        "- Softmax is again an activation function. In this case is a normalized exponential function."
      ]
    },
    {
      "cell_type": "code",
      "metadata": {
        "id": "zy6Hbk0nqwo6",
        "colab_type": "code",
        "colab": {
          "base_uri": "https://localhost:8080/",
          "height": 622
        },
        "outputId": "b70a7e98-2766-49e5-b461-6a221b43a656"
      },
      "source": [
        "tensorboard = TensorBoard('./log')\n",
        "\n",
        "model = models.Sequential()\n",
        "model.add(layers.Conv2D(32, (3, 3), activation='relu', input_shape=(28, 28, 1)))\n",
        "model.add(layers.MaxPooling2D((2, 2)))\n",
        "model.add(layers.Conv2D(64, (3, 3), activation='relu'))\n",
        "model.add(layers.MaxPooling2D((2, 2)))\n",
        "model.add(layers.Conv2D(64, (3, 3), activation='relu'))\n",
        "model.add(layers.Flatten())\n",
        "model.add(layers.Dense(64, activation='relu'))\n",
        "model.add(layers.Dense(10, activation='softmax'))\n",
        "\n",
        "model.compile(optimizer='adam',\n",
        "              loss='sparse_categorical_crossentropy',\n",
        "              metrics=['accuracy'])\n",
        "\n",
        "model.summary()\n",
        "model.fit(X_train, y_train, epochs=5, callbacks=[tensorboard])\n",
        "model.evaluate(X_test, y_test)"
      ],
      "execution_count": 122,
      "outputs": [
        {
          "output_type": "stream",
          "text": [
            "_________________________________________________________________\n",
            "Layer (type)                 Output Shape              Param #   \n",
            "=================================================================\n",
            "conv2d_6 (Conv2D)            (None, 26, 26, 32)        320       \n",
            "_________________________________________________________________\n",
            "max_pooling2d_4 (MaxPooling2 (None, 13, 13, 32)        0         \n",
            "_________________________________________________________________\n",
            "conv2d_7 (Conv2D)            (None, 11, 11, 64)        18496     \n",
            "_________________________________________________________________\n",
            "max_pooling2d_5 (MaxPooling2 (None, 5, 5, 64)          0         \n",
            "_________________________________________________________________\n",
            "conv2d_8 (Conv2D)            (None, 3, 3, 64)          36928     \n",
            "_________________________________________________________________\n",
            "flatten_2 (Flatten)          (None, 576)               0         \n",
            "_________________________________________________________________\n",
            "dense_4 (Dense)              (None, 64)                36928     \n",
            "_________________________________________________________________\n",
            "dense_5 (Dense)              (None, 10)                650       \n",
            "=================================================================\n",
            "Total params: 93,322\n",
            "Trainable params: 93,322\n",
            "Non-trainable params: 0\n",
            "_________________________________________________________________\n",
            "Epoch 1/5\n",
            "50000/50000 [==============================] - 53s 1ms/sample - loss: 0.6324 - acc: 0.9239\n",
            "Epoch 2/5\n",
            "50000/50000 [==============================] - 52s 1ms/sample - loss: 0.0662 - acc: 0.9798\n",
            "Epoch 3/5\n",
            "50000/50000 [==============================] - 51s 1ms/sample - loss: 0.0512 - acc: 0.9843\n",
            "Epoch 4/5\n",
            "50000/50000 [==============================] - 52s 1ms/sample - loss: 0.0427 - acc: 0.9866\n",
            "Epoch 5/5\n",
            "50000/50000 [==============================] - 52s 1ms/sample - loss: 0.0361 - acc: 0.9891\n",
            "10000/10000 [==============================] - 3s 350us/sample - loss: 0.0569 - acc: 0.9847\n"
          ],
          "name": "stdout"
        },
        {
          "output_type": "execute_result",
          "data": {
            "text/plain": [
              "[0.05686144814963336, 0.9847]"
            ]
          },
          "metadata": {
            "tags": []
          },
          "execution_count": 122
        }
      ]
    },
    {
      "cell_type": "markdown",
      "metadata": {
        "id": "cKYpu2wKkzo9",
        "colab_type": "text"
      },
      "source": [
        "## Test the results with a random image from the test dataset"
      ]
    },
    {
      "cell_type": "code",
      "metadata": {
        "id": "WUHr6z7avAq2",
        "colab_type": "code",
        "colab": {
          "base_uri": "https://localhost:8080/",
          "height": 321
        },
        "outputId": "c5569a7c-5e1f-4826-d2ab-0a6d0d69cf5c"
      },
      "source": [
        "seed = random.randint(0, len(X_test)-1)\n",
        "size_i = len(X_test[seed])\n",
        "print(size_i)\n",
        "test_img = np.array([X_test[seed].reshape((28,28,1))])\n",
        "\n",
        "predictions = model.predict(test_img)\n",
        "accuracy = np.amax(predictions) * 100\n",
        "\n",
        "prediction = np.unravel_index(predictions.argmax(), predictions.shape[1])[0]\n",
        "print('Prediction: {} - Accuracy {}% - Ground Truth {}'.format(prediction, round(accuracy,2), y_test[seed]))\n",
        "\n",
        "img = np.array(test_img).reshape((28,28))\n",
        "plt.imshow(img)"
      ],
      "execution_count": 123,
      "outputs": [
        {
          "output_type": "stream",
          "text": [
            "28\n",
            "Prediction: 4 - Accuracy 100.0% - Ground Truth 4\n"
          ],
          "name": "stdout"
        },
        {
          "output_type": "execute_result",
          "data": {
            "text/plain": [
              "<matplotlib.image.AxesImage at 0x7f0da8fc0fd0>"
            ]
          },
          "metadata": {
            "tags": []
          },
          "execution_count": 123
        },
        {
          "output_type": "display_data",
          "data": {
            "image/png": "[encoded data removed]",
            "text/plain": [
              "<Figure size 432x288 with 1 Axes>"
            ]
          },
          "metadata": {
            "tags": []
          }
        }
      ]
    },
    {
      "cell_type": "markdown",
      "metadata": {
        "id": "_cfXbv7-ONwc",
        "colab_type": "text"
      },
      "source": [
        "## Plot the results in a confusion matrix\n",
        "Now if we are interested in knowing the prediction versus the real value of all the test examples, not just a single one as we saw, we can build a confusion matrix to plot them all.\n",
        "- First we obtain the predictions over the X_test examples.\n",
        "- Then, we pre-process the results obtained in order to plt the confusion matrix."
      ]
    },
    {
      "cell_type": "code",
      "metadata": {
        "id": "KtB8dheXTvHw",
        "colab_type": "code",
        "colab": {}
      },
      "source": [
        "y_pred = []\n",
        "\n",
        "predictions_test = model.predict(X_test)\n",
        "\n",
        "for prediction in predictions_test:\n",
        "  y = prediction.argmax()\n",
        "  y_pred.append(y)"
      ],
      "execution_count": 0,
      "outputs": []
    },
    {
      "cell_type": "code",
      "metadata": {
        "id": "UG91K0_CS6xv",
        "colab_type": "code",
        "colab": {
          "base_uri": "https://localhost:8080/",
          "height": 318
        },
        "outputId": "98635def-4ecd-4af5-fd7a-2dbd05a2a6bb"
      },
      "source": [
        "sumarize = {}\n",
        "for t in range(0, 10):\n",
        "  sum_pred = {}\n",
        "  \n",
        "  for p in range(0, 10):\n",
        "    sum_pred[p] = 0\n",
        "  \n",
        "  sumarize[t] = sum_pred\n",
        "\n",
        "for i, t in enumerate(y_test):\n",
        "  sumarize[t][y_pred[i]] = sumarize[t][y_pred[i]] + 1\n",
        "  \n",
        "\n",
        "sum_array = []\n",
        "for label in sumarize.values():\n",
        "  values = []\n",
        "  for result in label.values():\n",
        "    values.append(result)\n",
        "  sum_array.append(values)\n",
        "\n",
        "plot_confusion_matrix(conf_mat=np.array(sum_array),\n",
        "                      show_absolute=True,\n",
        "                      show_normed=False,\n",
        "                      colorbar=True)"
      ],
      "execution_count": 125,
      "outputs": [
        {
          "output_type": "execute_result",
          "data": {
            "text/plain": [
              "(<Figure size 432x288 with 2 Axes>,\n",
              " <matplotlib.axes._subplots.AxesSubplot at 0x7f0daaba5fd0>)"
            ]
          },
          "metadata": {
            "tags": []
          },
          "execution_count": 125
        },
        {
          "output_type": "display_data",
          "data": {
            "image/png": "[encoded data removed]",
            "text/plain": [
              "<Figure size 432x288 with 2 Axes>"
            ]
          },
          "metadata": {
            "tags": []
          }
        }
      ]
    },
    {
      "cell_type": "markdown",
      "metadata": {
        "id": "3zzJ9_Z0lhaR",
        "colab_type": "text"
      },
      "source": [
        "## Conclusions\n",
        "- High accuracy and small loss, good symptoms even with small number of epochs. \n",
        "- More epochs would deal us to a data memorizing scenario."
      ]
    }
  ]
}